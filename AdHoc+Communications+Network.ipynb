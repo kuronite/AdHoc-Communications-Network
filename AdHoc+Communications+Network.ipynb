{
 "cells": [
  {
   "cell_type": "markdown",
   "metadata": {},
   "source": [
    "# ECE 143 \n",
    "\n",
    "## Ad-Hoc Communications Network\n",
    "\n",
    "Wilson Tran\n",
    "A12127824\n",
    "\n",
    "We can abstract the problem of planning an ad-hoc communication network by using rectangles because each individual tower can monitor a rectangular subsection of a sepcific width and height. Since communication towers are unreliable and are random and independently distributed, there is no reliable method to control where or how big a tower's footprint will be. "
   ]
  },
  {
   "cell_type": "markdown",
   "metadata": {},
   "source": [
    "Using the following parameters:\n",
    "1. All rectangular sections have integer-based corners.\n",
    "2. All rectangular sections must be contained in the overall rectangular footprint.\n",
    "3. The height and width of each rectangular section is sampled from a uniform distribution.\n",
    "4. Positions of the windows are also determined by uniform random distribution.\n",
    "5. All footprints must be rectangles (not general polygons).\n",
    "6. When a new tower comes online, if its coverage rectangle intersects the pre-existing composite footprint, then that new tower’s coverage is trimmed such that its maximum remaining coverage area is retained (see sequential diagram below).\n",
    "\n",
    "we can solve this problem by abstracting the problem with randomly generated rectangles such that the user needs to only specify an overall size of desired coverage footprint. In order to start solving this problem, it is necessary to create a function that will generate rectangles."
   ]
  },
  {
   "cell_type": "markdown",
   "metadata": {},
   "source": [
    "## Generating Rectangles"
   ]
  },
  {
   "cell_type": "code",
   "execution_count": 68,
   "metadata": {
    "collapsed": true
   },
   "outputs": [],
   "source": [
    "# Import basic modules to perform calculations and visualizations\n",
    "import numpy as np\n",
    "import matplotlib.pyplot as plt\n",
    "import random\n",
    "\n",
    "# Allows plots to appear in the notebook. \n",
    "%matplotlib inline"
   ]
  },
  {
   "cell_type": "code",
   "execution_count": 69,
   "metadata": {
    "collapsed": true
   },
   "outputs": [],
   "source": [
    "def gen_rect(win_size):\n",
    "    '''\n",
    "    Generator that uses a random number integer generator to generate a\n",
    "    corner, width, and height. \n",
    "    :@param win_size: int, The max amount of units of the final plot \n",
    "    in one direction. \n",
    "    :@return: tuple, Properties of a rectangle object in the following\n",
    "    format (bottom_left_x, bottom_left_y, width, height)\n",
    "    '''\n",
    "    assert isinstance(win_size, int), \"Window size must be an integer\"\n",
    "    assert win_size > 0, \"Window size must be non-negative\"\n",
    "    \n",
    "    while True:\n",
    "        # Range of X is 0 - 9 on the final plot\n",
    "        bt_x = random.randint(0, win_size)\n",
    "        \n",
    "        # Range of Y is 0 - 9 on the final plot\n",
    "        bt_y = random.randint(0, win_size)\n",
    "        \n",
    "        # Rectangle width and height cannot exceed size of plot\n",
    "        width = random.randint(0, win_size - bt_x + 1)\n",
    "        height = random.randint(0, win_size - bt_y + 1)\n",
    "        \n",
    "        yield (bt_x, bt_y, width, height)"
   ]
  },
  {
   "cell_type": "markdown",
   "metadata": {},
   "source": [
    "## Determining Max Area\n",
    "Since the rectangles are randomly generated, it is very possible that the rectangles can overlap. However, communication towers cannot have overlapping ranges. The newly generated rectangle will therefore have to be truncated. In order to maximize efficiency, the part of the rectangle that has the greatest area and is not overlapping while still maintaining a rectangular shape will be kept. "
   ]
  },
  {
   "cell_type": "code",
   "execution_count": 70,
   "metadata": {
    "collapsed": true
   },
   "outputs": [],
   "source": [
    "def max_area(rectArea):\n",
    "    '''\n",
    "    Evaluates the area of a binary rectangle matrix and determines\n",
    "    max area. \n",
    "    :@param rectArea: numpy.ndarray, A rectangle area in the form of a\n",
    "    binary matrix\n",
    "    :@return: numpy.ndarray, Rectangle with maximum area\n",
    "    '''\n",
    "    \n",
    "    assert isinstance(rectArea, np.ndarray), \"Area must be a matrix.\"\n",
    "    \n",
    "    # Dummy val to get inside loop\n",
    "    area = -10000\n",
    "    \n",
    "    # Survey length of rectArea, and length must not be 0\n",
    "    for aRow in range(len(rectArea)):\n",
    "        if aRow != 0:\n",
    "            # Survey width in rectArea\n",
    "            for aCol in range(len(rectArea[0])):\n",
    "                # If the rectangle unit exists in the area\n",
    "                if rectArea[aRow][aCol] == 1:\n",
    "                    # Accumulate amount of units in the area\n",
    "                    rectArea[aRow][aCol] += rectArea[aRow-1][aCol]\n",
    "    \n",
    "        # Calculate width of each row by counting units\n",
    "        curRow = rectArea[aRow]\n",
    "        for unit in range(len(curRow)):\n",
    "            width = 1\n",
    "            \n",
    "            # Increment value if rectangle units are continuous\n",
    "            for nextUnit in range(unit+1, len(curRow)):\n",
    "                if curRow[nextUnit] >= curRow[unit]:\n",
    "                    width += 1\n",
    "                    \n",
    "            # Get area by multiplying width and height\n",
    "            height = curRow[unit]\n",
    "            \n",
    "            # Determine if height is greatest height\n",
    "            if width*height > area:\n",
    "                area = width*height\n",
    "                \n",
    "                # Update parameters to plot\n",
    "                maxHeight = height\n",
    "                maxWidth = width\n",
    "                xPos = unit\n",
    "                yPos = aRow\n",
    "                \n",
    "    # Graph the resulting rectangle\n",
    "    maxArea = np.zeros_like(rectArea)\n",
    "    maxArea[int(yPos-maxHeight+1):int(yPos+1), int(xPos):int(xPos+maxWidth)] = 1\n",
    "    \n",
    "    return maxArea"
   ]
  },
  {
   "cell_type": "markdown",
   "metadata": {},
   "source": [
    "## Testing the System\n",
    "Now the user can input a given Window Size and test to see if the system works. The expected behavior is that rectangles will be plotted and none of the rectangles should overlap. The rectangles will be \"trimmed\" by finding the max area in which the rectangles do not overlap. "
   ]
  },
  {
   "cell_type": "code",
   "execution_count": 71,
   "metadata": {
    "collapsed": true
   },
   "outputs": [],
   "source": [
    "def run(win_size):\n",
    "    '''\n",
    "    Runs the generator until the area specified by the user is\n",
    "    completely filled. \n",
    "    :@param win_size: int, The max amount of units of the final plot\n",
    "    in one direction. \n",
    "    :@return: tuple, Returns the number of rectangles, the area, and the\n",
    "    animated plot.\n",
    "    '''\n",
    "    assert isinstance(win_size, int), \"Window size must be an integer\"\n",
    "    assert win_size > 0, \"Window size must be non-negative\"\n",
    "    \n",
    "    # Initialization of variables\n",
    "    finalPlot = np.zeros((win_size, win_size))    \n",
    "    animated = []\n",
    "    STOP = win_size*win_size+1\n",
    "    \n",
    "    # Begins generating rectangles\n",
    "    gen = gen_rect(win_size)\n",
    "    counter = 1\n",
    "    \n",
    "    img = plt.imshow(finalPlot)\n",
    "    animated.append([img])\n",
    "\n",
    "    # While still able to plot new rectangles\n",
    "    while not finalPlot.all() and counter < STOP:\n",
    "        nextRectCoord = next(gen)\n",
    "        nX, nY, nWidth, nHeight = nextRectCoord\n",
    "        rectArea = np.zeros((win_size, win_size))\n",
    "        \n",
    "        # Populate Rectangles\n",
    "        rectArea[nX:nX+nWidth, nY:nY+nHeight]=1\n",
    "        \n",
    "        # Trim Rectangles\n",
    "        rectArea[finalPlot > 0]=0\n",
    "        \n",
    "        # Retrieves largest area\n",
    "        maxRect = max_area(rectArea)\n",
    "        \n",
    "        # Increment counter of rectangles if added to final plot\n",
    "        if maxRect.any():\n",
    "            finalPlot[maxRect>0] = counter\n",
    "            img = plt.imshow(finalPlot, cmap='tab20', animated=True, vmin=0)\n",
    "            animated.append([img])\n",
    "            \n",
    "            counter+=1\n",
    "\n",
    "    area_covered = 100. * np.count_nonzero(finalPlot)/(win_size*win_size)\n",
    "    if counter == 2:\n",
    "        print '1 tower covering {}% of the area.'.format(area_covered)\n",
    "    else:\n",
    "        print '{} towers covering {}% of the area.'.format(counter-1,\n",
    "                                                           area_covered)\n",
    "\n",
    "    return counter - 1, area_covered, animated"
   ]
  },
  {
   "cell_type": "code",
   "execution_count": 77,
   "metadata": {},
   "outputs": [
    {
     "name": "stdout",
     "output_type": "stream",
     "text": [
      "55 towers covering 100.0% of the area.\n"
     ]
    },
    {
     "data": {
      "image/png": "[encoded data removed]",
      "text/plain": [
       "<matplotlib.figure.Figure at 0xba407f0>"
      ]
     },
     "metadata": {},
     "output_type": "display_data"
    }
   ],
   "source": [
    "_,_,animated=run(20)"
   ]
  },
  {
   "cell_type": "markdown",
   "metadata": {},
   "source": [
    "## Average Number of Towers\n",
    "Running 50 times, I can calculate the average number of towers needed."
   ]
  },
  {
   "cell_type": "code",
   "execution_count": 83,
   "metadata": {},
   "outputs": [
    {
     "name": "stdout",
     "output_type": "stream",
     "text": [
      "22 towers covering 100.0% of the area.\n",
      "20 towers covering 100.0% of the area.\n",
      "20 towers covering 100.0% of the area.\n",
      "27 towers covering 100.0% of the area.\n",
      "24 towers covering 100.0% of the area.\n",
      "23 towers covering 100.0% of the area.\n",
      "25 towers covering 100.0% of the area.\n",
      "28 towers covering 100.0% of the area.\n",
      "23 towers covering 100.0% of the area.\n",
      "15 towers covering 100.0% of the area.\n",
      "32 towers covering 100.0% of the area.\n",
      "26 towers covering 100.0% of the area.\n",
      "3 towers covering 100.0% of the area.\n",
      "18 towers covering 100.0% of the area.\n",
      "35 towers covering 100.0% of the area.\n",
      "23 towers covering 100.0% of the area.\n",
      "29 towers covering 100.0% of the area.\n",
      "20 towers covering 100.0% of the area.\n",
      "26 towers covering 100.0% of the area.\n",
      "19 towers covering 100.0% of the area.\n",
      "11 towers covering 100.0% of the area.\n",
      "28 towers covering 100.0% of the area.\n",
      "11 towers covering 100.0% of the area.\n",
      "22 towers covering 100.0% of the area.\n",
      "27 towers covering 100.0% of the area.\n",
      "25 towers covering 100.0% of the area.\n",
      "32 towers covering 100.0% of the area.\n",
      "21 towers covering 100.0% of the area.\n",
      "24 towers covering 100.0% of the area.\n",
      "21 towers covering 100.0% of the area.\n",
      "25 towers covering 100.0% of the area.\n",
      "33 towers covering 100.0% of the area.\n",
      "25 towers covering 100.0% of the area.\n",
      "23 towers covering 100.0% of the area.\n",
      "24 towers covering 100.0% of the area.\n",
      "14 towers covering 100.0% of the area.\n",
      "20 towers covering 100.0% of the area.\n",
      "21 towers covering 100.0% of the area.\n",
      "28 towers covering 100.0% of the area.\n",
      "25 towers covering 100.0% of the area.\n",
      "21 towers covering 100.0% of the area.\n",
      "19 towers covering 100.0% of the area.\n",
      "24 towers covering 100.0% of the area.\n",
      "18 towers covering 100.0% of the area.\n",
      "22 towers covering 100.0% of the area.\n",
      "19 towers covering 100.0% of the area.\n",
      "21 towers covering 100.0% of the area.\n",
      "26 towers covering 100.0% of the area.\n",
      "23 towers covering 100.0% of the area.\n",
      "31 towers covering 100.0% of the area.\n"
     ]
    },
    {
     "data": {
      "image/png": "[encoded data removed]",
      "text/plain": [
       "<matplotlib.figure.Figure at 0xbb48f28>"
      ]
     },
     "metadata": {},
     "output_type": "display_data"
    }
   ],
   "source": [
    "win_size = 10\n",
    "numTowers10 = []\n",
    "\n",
    "for i in range(50):\n",
    "    numTowers10.append(run(win_size)[0])"
   ]
  },
  {
   "cell_type": "code",
   "execution_count": 85,
   "metadata": {},
   "outputs": [
    {
     "name": "stdout",
     "output_type": "stream",
     "text": [
      "It takes an average of 22.84 communication towers to cover the 10 x 10 area\n"
     ]
    }
   ],
   "source": [
    "avg10 = sum(numTowers10)/50.\n",
    "print 'It takes an average of {} communication towers to cover the 10 x 10 area'.format(sum(numTowers10)/50.)"
   ]
  },
  {
   "cell_type": "code",
   "execution_count": 86,
   "metadata": {},
   "outputs": [
    {
     "name": "stdout",
     "output_type": "stream",
     "text": [
      "63 towers covering 100.0% of the area.\n",
      "43 towers covering 100.0% of the area.\n",
      "56 towers covering 100.0% of the area.\n",
      "65 towers covering 100.0% of the area.\n",
      "30 towers covering 100.0% of the area.\n",
      "50 towers covering 100.0% of the area.\n",
      "50 towers covering 100.0% of the area.\n",
      "37 towers covering 100.0% of the area.\n",
      "42 towers covering 100.0% of the area.\n",
      "33 towers covering 100.0% of the area.\n",
      "66 towers covering 100.0% of the area.\n",
      "51 towers covering 100.0% of the area.\n",
      "64 towers covering 100.0% of the area.\n",
      "38 towers covering 100.0% of the area.\n",
      "50 towers covering 100.0% of the area.\n",
      "58 towers covering 100.0% of the area.\n",
      "55 towers covering 100.0% of the area.\n",
      "75 towers covering 100.0% of the area.\n",
      "39 towers covering 100.0% of the area.\n",
      "41 towers covering 100.0% of the area.\n",
      "39 towers covering 100.0% of the area.\n",
      "32 towers covering 100.0% of the area.\n",
      "48 towers covering 100.0% of the area.\n",
      "45 towers covering 100.0% of the area.\n",
      "49 towers covering 100.0% of the area.\n",
      "41 towers covering 100.0% of the area.\n",
      "67 towers covering 100.0% of the area.\n",
      "61 towers covering 100.0% of the area.\n",
      "61 towers covering 100.0% of the area.\n",
      "35 towers covering 100.0% of the area.\n",
      "47 towers covering 100.0% of the area.\n",
      "48 towers covering 100.0% of the area.\n",
      "56 towers covering 100.0% of the area.\n",
      "52 towers covering 100.0% of the area.\n",
      "31 towers covering 100.0% of the area.\n",
      "51 towers covering 100.0% of the area.\n",
      "55 towers covering 100.0% of the area.\n",
      "38 towers covering 100.0% of the area.\n",
      "56 towers covering 100.0% of the area.\n",
      "62 towers covering 100.0% of the area.\n",
      "60 towers covering 100.0% of the area.\n",
      "46 towers covering 100.0% of the area.\n",
      "43 towers covering 100.0% of the area.\n",
      "42 towers covering 100.0% of the area.\n",
      "37 towers covering 100.0% of the area.\n",
      "50 towers covering 100.0% of the area.\n",
      "61 towers covering 100.0% of the area.\n",
      "51 towers covering 100.0% of the area.\n",
      "37 towers covering 100.0% of the area.\n",
      "52 towers covering 100.0% of the area.\n",
      "It takes an average of 49.18 communication towers to cover the 10 x 10 area\n"
     ]
    },
    {
     "data": {
      "image/png": "[encoded data removed]",
      "text/plain": [
       "<matplotlib.figure.Figure at 0xdbbd0b8>"
      ]
     },
     "metadata": {},
     "output_type": "display_data"
    }
   ],
   "source": [
    "win_size = 20\n",
    "numTowers20 = []\n",
    "for i in range(50):\n",
    "    numTowers20.append(run(win_size)[0])\n",
    "    \n",
    "avg20 = sum(numTowers20)/50.\n",
    "print 'It takes an average of {} communication towers to cover the 20 x 20 area'.format(sum(numTowers20)/50.)"
   ]
  },
  {
   "cell_type": "markdown",
   "metadata": {},
   "source": [
    "It takes a little more than double the amount of towers to cover the double the area. This makes sense due to the uniform distribution of towers. "
   ]
  },
  {
   "cell_type": "markdown",
   "metadata": {},
   "source": [
    "## Average Area Covered"
   ]
  },
  {
   "cell_type": "code",
   "execution_count": 87,
   "metadata": {},
   "outputs": [
    {
     "name": "stdout",
     "output_type": "stream",
     "text": [
      "The average area per rectangle in the 10 x 10 window size is 0.2284%.\n",
      "The average area per rectangle in the 20 x 20 window size is 0.12295%.\n"
     ]
    }
   ],
   "source": [
    "print 'The average area per rectangle in the 10 x 10 window size is {}%.'.format(avg10/(10*10)) \n",
    "print 'The average area per rectangle in the 20 x 20 window size is {}%.'.format(avg20/(20*20))"
   ]
  },
  {
   "cell_type": "markdown",
   "metadata": {},
   "source": [
    "The average area covered per rectangle follows the same behavior as the amount of towers necessary. On average, a rectangle consumes almost twice as much area in the 10x10 layout opposed to the 20x20 layout.  "
   ]
  },
  {
   "cell_type": "markdown",
   "metadata": {},
   "source": [
    "## Conclusion"
   ]
  },
  {
   "cell_type": "markdown",
   "metadata": {},
   "source": [
    "This project gives insight on how to abstract a complex problem such as Ad-Hoc networking into a much more tangible problem using rectangles. "
   ]
  }
 ],
 "metadata": {
  "kernelspec": {
   "display_name": "Python 2",
   "language": "python",
   "name": "python2"
  },
  "language_info": {
   "codemirror_mode": {
    "name": "ipython",
    "version": 2
   },
   "file_extension": ".py",
   "mimetype": "text/x-python",
   "name": "python",
   "nbconvert_exporter": "python",
   "pygments_lexer": "ipython2",
   "version": "2.7.13"
  }
 },
 "nbformat": 4,
 "nbformat_minor": 2
}
